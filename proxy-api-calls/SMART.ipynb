{
 "cells": [
  {
   "cell_type": "markdown",
   "metadata": {},
   "source": [
    "# OAuth Workflow Walkthrough\n",
    "\n",
    "An important part of building a research application is the OAuth 2.0 workflow outlined by [SMART on FHIR](http://docs.smarthealthit.org/authorization/). To demonstrate how to use the OAuth workflow, let's walk through the process and manually perform the steps that the research application needs to implement. For the demonstration, we'll use the FHIR server with the SMART Reference Server provided by the [S4S Docker reference stack](http://github.com/sync-for-science/reference-stack-docker) which is available at <http://portal.demo.syncfor.science/>, but you can follow these same steps using the sandbox environments from Cerner, Epic, and others (see <http://dev.smarthealthit.org/> for details). The steps are:\n",
    "1. Register our application as a client\n",
    "2. Launch the workflow by asking the SMART Reference Server for authorization\n",
    "3. Collect the authorization code from the SMART Reference Server\n",
    "4. Exchange the code for an access token\n",
    "5. Use the access token to access patient data\n",
    "\n",
    "**Note:** You can also run the demonstration with a local copy of the SMART Reference Server running on Docker - just replace `https://portal.demo.syncfor.science/` with `http://localhost:9000/` throughout the examples.\n",
    "\n",
    "## Registering the client\n",
    "\n",
    "A research application must register itself *once* with the SMART Reference Server before it can access any data. This registration workflow is implemented as described in [RFC7591](https://tools.ietf.org/html/rfc7591). Client registration is performed by sending a POST request to the registration endpoint at <https://portal.demo.syncfor.science/oauth/register>. The body of the request is a JSON payload with the application's name, an array of redirect URIs, and the desired scopes. Because we'll be building our example client right inside of this Jupyter Notebook, we won't be hosting it on a regular web server, so the redirect URI that we'll use is really just a placeholder. We can register the fake endpoint <https://not-a-real-site/authorized> as our placeholder and copy the code from the browser into the notebook at the end of the participant's authorization process."
   ]
  },
  {
   "cell_type": "code",
   "execution_count": 1,
   "metadata": {},
   "outputs": [
    {
     "name": "stdout",
     "output_type": "stream",
     "text": [
      "Response status code: 201\n",
      "{'client_id': '090a67ba-6399-4c0f-8d4d-a30be52805a9',\n",
      " 'client_name': 'Fake Research Application',\n",
      " 'client_secret': '3a61061a-646d-4eb8-af6b-fa8439ecef50',\n",
      " 'client_secret_expires_at': 0,\n",
      " 'redirect_uris': ['https://not-a-real-site/authorized'],\n",
      " 'scope': 'launch/patient patient/*.read offline_access'}\n"
     ]
    }
   ],
   "source": [
    "import requests\n",
    "from pprint import pprint\n",
    "\n",
    "redirect_uri = 'https://not-a-real-site/authorized'\n",
    "\n",
    "data = {\n",
    "    'client_name': 'Fake Research Application',\n",
    "    'redirect_uris': [redirect_uri],\n",
    "    'scope': 'launch/patient patient/*.read offline_access'\n",
    "}\n",
    "response = requests.post('https://portal.demo.syncfor.science/oauth/register', json=data)\n",
    "response_data = response.json()\n",
    "print(f'Response status code: {response.status_code}')\n",
    "pprint(response.json())\n",
    "\n",
    "client_id = response_data['client_id']\n",
    "client_secret = response_data['client_secret']"
   ]
  },
  {
   "cell_type": "markdown",
   "metadata": {},
   "source": [
    "## Launch the OAuth workflow\n",
    "\n",
    "The workflow is lauched by the participant by accessing the authorize endpoint exposed by the SMART Reference Server, which can be determined by looking at the server's conformance statement. For the S4S SMART Reference Server, this endpoint is <https://portal.demo.syncfor.science/oauth/authorize>."
   ]
  },
  {
   "cell_type": "code",
   "execution_count": 2,
   "metadata": {},
   "outputs": [
    {
     "data": {
      "text/html": [
       "<a href=\"https://portal.demo.syncfor.science/oauth/authorize?response_type=code&client_id=090a67ba-6399-4c0f-8d4d-a30be52805a9&redirect_uri=https%3A%2F%2Fnot-a-real-site%2Fauthorized&scope=launch%2Fpatient+patient%2F%2A.read+offline_access&state=my-obscured-state&aud=https%3A%2F%2Fportal.demo.syncfor.science%2Fapi%2Ffhir\" target=\"_blank\">Continue to authorization</a>"
      ],
      "text/plain": [
       "<IPython.core.display.HTML object>"
      ]
     },
     "metadata": {},
     "output_type": "display_data"
    }
   ],
   "source": [
    "from urllib.parse import urlencode\n",
    "\n",
    "params = {\n",
    "    'response_type': 'code',\n",
    "    'client_id': client_id,\n",
    "    'redirect_uri': redirect_uri,\n",
    "    'scope': 'launch/patient patient/*.read offline_access',\n",
    "    'state': 'my-obscured-state',\n",
    "    'aud': 'https://portal.demo.syncfor.science/api/fhir'\n",
    "}\n",
    "\n",
    "from IPython.core.display import display, HTML\n",
    "display(HTML(f'<a href=\"https://portal.demo.syncfor.science/oauth/authorize?{urlencode(params)}\" target=\"_blank\">Continue to authorization</a>'))"
   ]
  },
  {
   "cell_type": "markdown",
   "metadata": {},
   "source": [
    "## Collect the authorization code\n",
    "\n",
    "By following that link, you may be asked to login with the default credentials (or you may already be logged in), and then asked to complete the authorization process. At the end of the process, you'll be redirected to a URL like <https://not-a-real-site/authorized?code=S8F9wCSvV0l7308lHNwDbJdC3DOnOj&state=my-obscured-state>, containing the authorization code. Your browser will display an error since there is no real web server here, but that's okay since you are manually playing the role of the web browser by extracting the `code` URL parameter and pasting it back into this notebook. Copy this code into the snippet below, but **act fast** since this code expires in 100 seconds!"
   ]
  },
  {
   "cell_type": "code",
   "execution_count": 3,
   "metadata": {},
   "outputs": [],
   "source": [
    "code = 'LXHFkK5A6RrM4fOVrNVGOsg425JxVq'  # replace with your code"
   ]
  },
  {
   "cell_type": "markdown",
   "metadata": {},
   "source": [
    "## Exchange for access token\n",
    "\n",
    "With code in hand, we can now get an access token from the SMART Reference Server. This would be completed by your application without any input from the user. Note that since this is a *confidential* client, we need to use basic authentication when interacting with the SMART Reference Server, where the username and password are the client ID and client secret, respectively."
   ]
  },
  {
   "cell_type": "code",
   "execution_count": 4,
   "metadata": {},
   "outputs": [
    {
     "name": "stdout",
     "output_type": "stream",
     "text": [
      "Response status code: 200\n",
      "{'access_token': 'F960BWyEbVcy1wO4qD4Itr9xorcO0F',\n",
      " 'expires_in': 3600,\n",
      " 'patient': 'smart-1288992',\n",
      " 'refresh_token': '3YQFDQ5h0Tq1J5HdwdRTI2Tjbi9cSd',\n",
      " 'scope': 'launch/patient patient/*.read offline_access',\n",
      " 'token_type': 'Bearer'}\n"
     ]
    }
   ],
   "source": [
    "auth = (client_id, client_secret)  # for basic authentication\n",
    "\n",
    "data = {\n",
    "    'grant_type': 'authorization_code',\n",
    "    'code': code,\n",
    "    'redirect_uri': redirect_uri\n",
    "}\n",
    "\n",
    "response = requests.post('https://portal.demo.syncfor.science/oauth/token', auth=auth, data=data)\n",
    "response_data = response.json()\n",
    "\n",
    "print(f'Response status code: {response.status_code}')\n",
    "pprint(response_data)\n",
    "\n",
    "access_token = response_data['access_token']\n",
    "refresh_token = response_data['refresh_token']\n",
    "patient_id = response_data['patient']"
   ]
  },
  {
   "cell_type": "markdown",
   "metadata": {},
   "source": [
    "**Note:** If you receive a 401 response, you may have taken more than 100 seconds at which time the authorization code expires.\n",
    "\n",
    "You can see that the server gave us the patient ID whose data we now have access to, and the access token we can use to get the data.\n",
    "\n",
    "## Using the tokens to retreive data\n",
    "\n",
    "Now that we have a client ID, client secret, and access token, we can use these values to get some FHIR data, which our application can store. The access token is simply used as a bearer token in the header of the request to the SMART Reference Server. In the [reference stack](https://github.com/sync-for-science/reference-stack-docker) implementation, the SMART Reference Server then proxies the authenticated request to the HAPI-FHIR server. Normally, the request will fail if you try to access the patient data without the access token:"
   ]
  },
  {
   "cell_type": "code",
   "execution_count": 5,
   "metadata": {
    "scrolled": true
   },
   "outputs": [
    {
     "name": "stdout",
     "output_type": "stream",
     "text": [
      "Response status code: 401\n"
     ]
    }
   ],
   "source": [
    "response = requests.get(f'https://portal.demo.syncfor.science/api/fhir/Patient/{patient_id}')  # oops, no header\n",
    "print(f'Response status code: {response.status_code}')"
   ]
  },
  {
   "cell_type": "markdown",
   "metadata": {},
   "source": [
    "Now let's try the same request with the access token:"
   ]
  },
  {
   "cell_type": "code",
   "execution_count": 6,
   "metadata": {},
   "outputs": [
    {
     "name": "stdout",
     "output_type": "stream",
     "text": [
      "Response status code: 200\n",
      "{'active': True,\n",
      " 'address': [{'city': 'Tulsa',\n",
      "              'country': 'USA',\n",
      "              'line': ['1 Hill AveApt 14'],\n",
      "              'postalCode': '74117',\n",
      "              'state': 'OK',\n",
      "              'use': 'home'}],\n",
      " 'birthDate': '1925-12-23',\n",
      " 'gender': 'male',\n",
      " 'id': 'smart-1288992',\n",
      " 'identifier': [{'system': 'http://hospital.smarthealthit.org',\n",
      "                 'type': {'coding': [{'code': 'MR',\n",
      "                                      'display': 'Medical record number',\n",
      "                                      'system': 'http://hl7.org/fhir/v2/0203'}],\n",
      "                          'text': 'Medical record number'},\n",
      "                 'use': 'usual',\n",
      "                 'value': '1288992'}],\n",
      " 'meta': {'lastUpdated': '2018-02-21T15:01:44.340+00:00',\n",
      "          'security': [{'code': 'patient',\n",
      "                        'system': 'http://smarthealthit.org/security/categories'},\n",
      "                       {'code': 'Patient/smart-1288992',\n",
      "                        'system': 'http://smarthealthit.org/security/users'}],\n",
      "          'versionId': '2'},\n",
      " 'name': [{'family': ['Adams'], 'given': ['Daniel', 'X.'], 'use': 'official'}],\n",
      " 'resourceType': 'Patient',\n",
      " 'telecom': [{'system': 'email', 'value': 'daniel.adams@example.com'}],\n",
      " 'text': {'div': '<div xmlns=\"http://www.w3.org/1999/xhtml\">        <p>Daniel '\n",
      "                 'Adams</p>      </div>',\n",
      "          'status': 'generated'}}\n"
     ]
    }
   ],
   "source": [
    "headers = {\n",
    "    'Authorization': f'Bearer {access_token}'\n",
    "}\n",
    "response = requests.get(f'https://portal.demo.syncfor.science/api/fhir/Patient/{patient_id}', headers=headers)\n",
    "print(f'Response status code: {response.status_code}')\n",
    "pprint(response.json())"
   ]
  },
  {
   "cell_type": "markdown",
   "metadata": {},
   "source": [
    "Success!\n",
    "\n",
    "**Note:** If you get a 500 server error, you may need to load the patient data into the FHIR server. This can be done by running `docker-compose run tasks load-sample-data-stu2`. See the [GitHub repository](http://github.com/sync-for-science/reference-stack-docker) for more details.\n",
    "\n",
    "If the access token has expired, the refresh token can be used to generate a new one with a POST request to the token endpoint at <https://portal.demo.syncfor.science/oauth/token> (using basic authentication):"
   ]
  },
  {
   "cell_type": "code",
   "execution_count": 7,
   "metadata": {
    "scrolled": true
   },
   "outputs": [
    {
     "name": "stdout",
     "output_type": "stream",
     "text": [
      "{\"access_token\": \"q5TLnklcm1IdsPShmPEsA0AK6y17ZT\", \"expires_in\": 3600, \"token_type\": \"Bearer\", \"scope\": \"launch/patient patient/*.read offline_access\", \"refresh_token\": \"6uTTDCqjUkJ0yWHtFjJ8MhuEHAu36D\", \"patient\": \"smart-1288992\"}\n",
      "{'access_token': 'q5TLnklcm1IdsPShmPEsA0AK6y17ZT',\n",
      " 'expires_in': 3600,\n",
      " 'patient': 'smart-1288992',\n",
      " 'refresh_token': '6uTTDCqjUkJ0yWHtFjJ8MhuEHAu36D',\n",
      " 'scope': 'launch/patient patient/*.read offline_access',\n",
      " 'token_type': 'Bearer'}\n"
     ]
    }
   ],
   "source": [
    "auth = (client_id, client_secret)\n",
    "data = {\n",
    "    'grant_type': 'refresh_token',\n",
    "    'refresh_token': refresh_token\n",
    "}\n",
    "response = requests.post('https://portal.demo.syncfor.science/oauth/token', auth=auth, data=data)\n",
    "print(response.text)\n",
    "pprint(response.json())"
   ]
  },
  {
   "cell_type": "markdown",
   "metadata": {},
   "source": [
    "# SMART Reference Server developer resources\n",
    "\n",
    "Let's experiment with some additional examples showing some debug features available with the SMART Reference Server. For these examples, the SMART Reference Server is accessible at <https://portal.demo.syncfor.science/>. However, if you're running the [S4S Docker reference stack](https://github.com/sync-for-science/reference-stack-docker) locally with Docker, you can access your local SMART Reference Server at <http://localhost:9000/>."
   ]
  },
  {
   "cell_type": "markdown",
   "metadata": {},
   "source": [
    "## Token debug endpoints\n",
    "\n",
    "Once a client has been registered, let's try the token debug endpoints that are included with the SMART Reference Server **(for development purposes only)** - real servers will not have endpoints available to generate or introspect tokens like this.\n",
    "\n",
    "### Create a token\n",
    "\n",
    "We can create an access token for a registered client with a POST request to <https://portal.demo.syncfor.science/oauth/debug/token>. The request should include the client ID obtained from registration, the username of a user of the SMART Reference Server, and the patient ID which is associated with the user. The S4S SMART Reference Server ships with a user named `daniel-adams` which has access to a patient with ID `smart-1288992`, so we'll use these."
   ]
  },
  {
   "cell_type": "code",
   "execution_count": 8,
   "metadata": {},
   "outputs": [
    {
     "name": "stdout",
     "output_type": "stream",
     "text": [
      "Response status code: 200\n",
      "{'access_token': 'a3d7d5b1-c2e5-44f3-8525-c9b7d59ca36d',\n",
      " 'refresh_token': '7cfc2e90-0d0e-489a-a74b-265ca349a804'}\n"
     ]
    }
   ],
   "source": [
    "username = 'daniel-adams'\n",
    "patient_id = 'smart-1288992'\n",
    "\n",
    "data = {\n",
    "    'client_id': client_id,\n",
    "    'username': username,\n",
    "    'patient_id': patient_id\n",
    "}\n",
    "response = requests.post('https://portal.demo.syncfor.science/oauth/debug/token', json=data)\n",
    "response_data = response.json()\n",
    "print(f'Response status code: {response.status_code}')\n",
    "pprint(response_data)\n",
    "\n",
    "access_token = response_data['access_token']\n",
    "refresh_token = response_data['refresh_token']"
   ]
  },
  {
   "cell_type": "markdown",
   "metadata": {},
   "source": [
    "### Inspect a token\n",
    "\n",
    "Now that we have a token granting us access to a user, let's inspect it using a GET request to <https://portal.demo.syncfor.science/oauth/debug/introspect>:"
   ]
  },
  {
   "cell_type": "code",
   "execution_count": 9,
   "metadata": {},
   "outputs": [
    {
     "name": "stdout",
     "output_type": "stream",
     "text": [
      "Response status code: 200\n",
      "{'access_expires': 'Fri, 13 Jul 2018 02:40:49 GMT',\n",
      " 'access_token': 'a3d7d5b1-c2e5-44f3-8525-c9b7d59ca36d',\n",
      " 'active': True,\n",
      " 'approval_expires': 'Sat, 13 Jul 2019 01:40:49 GMT',\n",
      " 'client_id': '090a67ba-6399-4c0f-8d4d-a30be52805a9',\n",
      " 'refresh_token': '7cfc2e90-0d0e-489a-a74b-265ca349a804',\n",
      " 'scope': 'launch/patient patient/*.read offline_access',\n",
      " 'security_labels': [],\n",
      " 'token_type': 'Bearer',\n",
      " 'username': 'daniel-adams'}\n"
     ]
    }
   ],
   "source": [
    "params = {'token': access_token}  # can be access or refresh token\n",
    "response = requests.get('https://portal.demo.syncfor.science/oauth/debug/introspect', params=params)\n",
    "print(f'Response status code: {response.status_code}')\n",
    "pprint(response.json())"
   ]
  },
  {
   "cell_type": "markdown",
   "metadata": {},
   "source": [
    "Here we can see information associated with this token. By default **when creating a token with the reference stack's debug endpoint**, the _access token_ is valid for 1 hour (`access_expires`), but the approval is valid for 1 year (`approval_expires`). This means that after 1 hour, attempts to use the `access_token` when fetching data will fail; however, the approval is still valid for 1 year, so the `refresh_token` may be used to generate a new access token within this time frame. A real research application will have no control over these time periods - the SMART Reference Server decides how for long the access token should be valid, and the approval expiration time is generally specified by the participant during the authorization process.\n",
    "\n",
    "For debugging purposes, these parameters can be specified in the request to the debug token endpoint:"
   ]
  },
  {
   "cell_type": "code",
   "execution_count": 10,
   "metadata": {},
   "outputs": [
    {
     "name": "stdout",
     "output_type": "stream",
     "text": [
      "{'access_expires': 'Fri, 13 Jul 2018 04:40:54 GMT',\n",
      " 'access_token': '5b684d7e-ffb8-4251-b1e8-953fa62b9d24',\n",
      " 'active': True,\n",
      " 'approval_expires': 'Wed, 09 Jan 2019 01:40:42 GMT',\n",
      " 'client_id': '090a67ba-6399-4c0f-8d4d-a30be52805a9',\n",
      " 'refresh_token': 'f0aff753-db4c-4f67-9de3-a41410f23fe7',\n",
      " 'scope': 'launch/patient patient/*.read offline_access',\n",
      " 'security_labels': [],\n",
      " 'token_type': 'Bearer',\n",
      " 'username': 'daniel-adams'}\n"
     ]
    }
   ],
   "source": [
    "from time import time\n",
    "data = {\n",
    "    'client_id': client_id,\n",
    "    'username': username,\n",
    "    'patient_id': patient_id,\n",
    "    'access_lifetime': 3*60*60,  # duration in seconds\n",
    "    'approval_expires': time() + 180*24*60*60  # UNIX timestamp\n",
    "}\n",
    "token_response = requests.post('https://portal.demo.syncfor.science/oauth/debug/token', json=data)\n",
    "access_token = token_response.json()['access_token']\n",
    "introspect_response = requests.get('https://portal.demo.syncfor.science/oauth/debug/introspect',\n",
    "                                   params={'token': access_token})\n",
    "pprint(introspect_response.json())"
   ]
  },
  {
   "cell_type": "markdown",
   "metadata": {},
   "source": [
    "The `access_expires` and `approval_expires` reflect the requested durations of 3 hours and 180 days, respectively."
   ]
  }
 ],
 "metadata": {
  "kernelspec": {
   "display_name": "Python 3",
   "language": "python",
   "name": "python3"
  },
  "language_info": {
   "codemirror_mode": {
    "name": "ipython",
    "version": 3
   },
   "file_extension": ".py",
   "mimetype": "text/x-python",
   "name": "python",
   "nbconvert_exporter": "python",
   "pygments_lexer": "ipython3",
   "version": "3.6.5"
  }
 },
 "nbformat": 4,
 "nbformat_minor": 2
}
