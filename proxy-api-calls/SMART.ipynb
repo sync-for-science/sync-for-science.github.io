{
 "cells": [
  {
   "cell_type": "markdown",
   "metadata": {},
   "source": [
    "# SMART examples\n",
    "Let's experiment with some examples showing how to use a few of the endpoints of the SMART OAuth2 workflow. For these examples, the SMART server is accessible at <http://localhost:9000>, which is the default configuration when running the [S4S Docker reference stack](https://www.github.com/sync-for-science/reference-stack-docker).\n",
    "\n",
    "## Client registration\n",
    "\n",
    "A research application must register itself with the SMART server before it can access any data. This registration workflow is implemented as described in [RFC7591](https://tools.ietf.org/html/rfc7591). Client registration is performed by sending a POST request to the registration endpoint at <http://localhost:9000/oauth/register>. The body of the request is a JSON payload with the application's name, an array of redirect URIs, and the desired scopes. We'll keep the same redirect URI that is used by the reference stack's research application example."
   ]
  },
  {
   "cell_type": "code",
   "execution_count": 1,
   "metadata": {},
   "outputs": [
    {
     "name": "stdout",
     "output_type": "stream",
     "text": [
      "Response status code: 201\n"
     ]
    }
   ],
   "source": [
    "import requests\n",
    "data = {\n",
    "    'client_name': 'SMART Test Client',\n",
    "    'redirect_uris': ['http://localhost:9001/authorized'],\n",
    "    'scope': 'launch/patient patient/*.read offline_access'\n",
    "}\n",
    "response = requests.post('http://localhost:9000/oauth/register', json=data)\n",
    "response_data = response.json()\n",
    "print(f'Response status code: {response.status_code}')"
   ]
  },
  {
   "cell_type": "markdown",
   "metadata": {},
   "source": [
    "Success! Our client registration was completed successfully. The response is JSON containing the created registration paramters:"
   ]
  },
  {
   "cell_type": "code",
   "execution_count": 2,
   "metadata": {},
   "outputs": [
    {
     "name": "stdout",
     "output_type": "stream",
     "text": [
      "{'client_id': '59b2f830-965e-4a9d-be34-79283df73d24',\n",
      " 'client_name': 'SMART Test Client',\n",
      " 'client_secret': '337c78d3-0a12-42ad-b0fd-ed15d8e91800',\n",
      " 'client_secret_expires_at': 0,\n",
      " 'redirect_uris': ['http://localhost:9001/authorized'],\n",
      " 'scope': 'launch/patient patient/*.read offline_access'}\n"
     ]
    }
   ],
   "source": [
    "from pprint import pprint\n",
    "pprint(response_data)\n",
    "\n",
    "client_id = response_data['client_id']\n",
    "client_secret = response_data['client_secret']"
   ]
  },
  {
   "cell_type": "markdown",
   "metadata": {},
   "source": [
    "We've been issued both a `client_id` and a `client_secret`, which will be used to identify the research application to the SMART server from now on.\n",
    "\n",
    "## Token debug endpoints\n",
    "\n",
    "Now that we have a client registered, let's use the token debug endpoints that are included with the S4S SMART server (for development purposes only).\n",
    "\n",
    "### Create a token\n",
    "\n",
    "We can create an access token for a registered client with a POST request to <http://localhost:9000/oauth/debug/token>. The request should include the client ID obtained from registration, the username of a user of the SMART server, and the patient ID which is associated with the user. The S4S SMART server ships with a user named `daniel-adams` which has access to a patient with ID `smart-1288992`, so we'll use these."
   ]
  },
  {
   "cell_type": "code",
   "execution_count": 3,
   "metadata": {},
   "outputs": [
    {
     "name": "stdout",
     "output_type": "stream",
     "text": [
      "Response status code: 200\n",
      "{'access_token': '5b7ba512-bbe7-47bd-999a-8458fdcb5bda',\n",
      " 'refresh_token': 'cebae0fd-d604-4741-a581-5581b153d55f'}\n"
     ]
    }
   ],
   "source": [
    "data = {\n",
    "    'client_id': client_id,\n",
    "    'username': 'daniel-adams',\n",
    "    'patient_id': 'smart-1288992'\n",
    "}\n",
    "response = requests.post('http://localhost:9000/oauth/debug/token', json=data)\n",
    "response_data = response.json()\n",
    "print(f'Response status code: {response.status_code}')\n",
    "pprint(response_data)\n",
    "\n",
    "access_token = response_data['access_token']\n",
    "refresh_token = response_data['refresh_token']"
   ]
  },
  {
   "cell_type": "markdown",
   "metadata": {},
   "source": [
    "### Inspect a token\n",
    "\n",
    "Now that we have a token granting us access to a user, let's inspect it using a GET request to <http://localhost:9000/oauth/debug/introspect>:"
   ]
  },
  {
   "cell_type": "code",
   "execution_count": 4,
   "metadata": {},
   "outputs": [
    {
     "name": "stdout",
     "output_type": "stream",
     "text": [
      "Response status code: 200\n",
      "{'access_expires': 'Thu, 05 Jul 2018 17:41:24 GMT',\n",
      " 'access_token': '5b7ba512-bbe7-47bd-999a-8458fdcb5bda',\n",
      " 'active': True,\n",
      " 'approval_expires': 'Fri, 05 Jul 2019 16:41:24 GMT',\n",
      " 'client_id': '59b2f830-965e-4a9d-be34-79283df73d24',\n",
      " 'refresh_token': 'cebae0fd-d604-4741-a581-5581b153d55f',\n",
      " 'scope': 'launch/patient patient/*.read offline_access',\n",
      " 'security_labels': [],\n",
      " 'token_type': 'Bearer',\n",
      " 'username': 'daniel-adams'}\n"
     ]
    }
   ],
   "source": [
    "params = {'token': access_token}  # can be access or refresh token\n",
    "response = requests.get('http://localhost:9000/oauth/debug/introspect', params=params)\n",
    "print(f'Response status code: {response.status_code}')\n",
    "pprint(response.json())"
   ]
  },
  {
   "cell_type": "markdown",
   "metadata": {},
   "source": [
    "Here we can see information associated with this token. By default, the _access token_ is valid for 1 hour (`access_expires`), but the approval is valid for 1 year (`approval_expires`). This means that after 1 hour, attempts to use the `access_token` when fetching data will fail; however, the approval is still valid for 1 year, so the `refresh_token` may be used to generate a new access token within this time frame. For debugging purposes, these parameters can be specified in the request to the debug token endpoint:"
   ]
  },
  {
   "cell_type": "code",
   "execution_count": 5,
   "metadata": {},
   "outputs": [
    {
     "name": "stdout",
     "output_type": "stream",
     "text": [
      "{'access_expires': 'Thu, 05 Jul 2018 19:41:28 GMT',\n",
      " 'access_token': 'a3954277-3505-4e24-8904-b6bdfe1ab149',\n",
      " 'active': True,\n",
      " 'approval_expires': 'Tue, 01 Jan 2019 16:41:26 GMT',\n",
      " 'client_id': '59b2f830-965e-4a9d-be34-79283df73d24',\n",
      " 'refresh_token': '2f9f60ee-2317-4517-90f0-7e049e4185c4',\n",
      " 'scope': 'launch/patient patient/*.read offline_access',\n",
      " 'security_labels': [],\n",
      " 'token_type': 'Bearer',\n",
      " 'username': 'daniel-adams'}\n"
     ]
    }
   ],
   "source": [
    "from time import time\n",
    "data = {\n",
    "    'client_id': client_id,\n",
    "    'username': 'daniel-adams',\n",
    "    'patient_id': 'smart-1288992',\n",
    "    'access_lifetime': 3*60*60,  # duration in seconds\n",
    "    'approval_expires': time() + 180*24*60*60  # UNIX timestamp\n",
    "}\n",
    "token_response = requests.post('http://localhost:9000/oauth/debug/token', json=data)\n",
    "access_token = token_response.json()['access_token']\n",
    "introspect_response = requests.get('http://localhost:9000/oauth/debug/introspect',\n",
    "                                   params={'token': access_token})\n",
    "pprint(introspect_response.json())"
   ]
  },
  {
   "cell_type": "markdown",
   "metadata": {},
   "source": [
    "The `access_expires` and `approval_expires` reflect the requested durations of 3 hours and 180 days, respectively.\n",
    "\n",
    "## Using the tokens to retreive data\n",
    "\n",
    "Now that we have a client ID, client secret, and access token, we can use these values to get some FHIR data, which our application can store. The access token is simply used as a bearer token in the header of the request to the SMART server. In the S4S reference stack implementation, the SMART server then proxies the authenticated request to the HAPI-FHIR server. Normally, the request will fail if you try to access the patient data without the access token:"
   ]
  },
  {
   "cell_type": "code",
   "execution_count": 6,
   "metadata": {},
   "outputs": [
    {
     "name": "stdout",
     "output_type": "stream",
     "text": [
      "Response status code: 401\n"
     ]
    }
   ],
   "source": [
    "response = requests.get('http://localhost:9000/api/fhir/Patient/smart-1288992')  # oops, no header\n",
    "print(f'Response status code: {response.status_code}')"
   ]
  },
  {
   "cell_type": "markdown",
   "metadata": {},
   "source": [
    "Now let's try the same request with the access token:"
   ]
  },
  {
   "cell_type": "code",
   "execution_count": 7,
   "metadata": {},
   "outputs": [
    {
     "name": "stdout",
     "output_type": "stream",
     "text": [
      "Response status code: 200\n",
      "{'active': True,\n",
      " 'address': [{'city': 'Tulsa',\n",
      "              'country': 'USA',\n",
      "              'line': ['1 Hill AveApt 14'],\n",
      "              'postalCode': '74117',\n",
      "              'state': 'OK',\n",
      "              'use': 'home'}],\n",
      " 'birthDate': '1925-12-23',\n",
      " 'gender': 'male',\n",
      " 'id': 'smart-1288992',\n",
      " 'identifier': [{'system': 'http://hospital.smarthealthit.org',\n",
      "                 'type': {'coding': [{'code': 'MR',\n",
      "                                      'display': 'Medical record number',\n",
      "                                      'system': 'http://hl7.org/fhir/v2/0203'}],\n",
      "                          'text': 'Medical record number'},\n",
      "                 'use': 'usual',\n",
      "                 'value': '1288992'}],\n",
      " 'meta': {'lastUpdated': '2018-07-05T16:39:38.468+00:00',\n",
      "          'security': [{'code': 'patient',\n",
      "                        'system': 'http://smarthealthit.org/security/categories'},\n",
      "                       {'code': 'Patient/smart-1288992',\n",
      "                        'system': 'http://smarthealthit.org/security/users'}],\n",
      "          'versionId': '1'},\n",
      " 'name': [{'family': ['Adams'], 'given': ['Daniel', 'X.'], 'use': 'official'}],\n",
      " 'resourceType': 'Patient',\n",
      " 'telecom': [{'system': 'email', 'value': 'daniel.adams@example.com'}],\n",
      " 'text': {'div': '<div xmlns=\"http://www.w3.org/1999/xhtml\">        <p>Daniel '\n",
      "                 'Adams</p>      </div>',\n",
      "          'status': 'generated'}}\n"
     ]
    }
   ],
   "source": [
    "headers = {\n",
    "    'Authorization': f'Bearer {access_token}'\n",
    "}\n",
    "response = requests.get('http://localhost:9000/api/fhir/Patient/smart-1288992', headers=headers)\n",
    "print(f'Response status code: {response.status_code}')\n",
    "pprint(response.json())"
   ]
  },
  {
   "cell_type": "markdown",
   "metadata": {},
   "source": [
    "If the access token has expired, the refresh token can be used to generate a new one with a POST request to the token endpoint at <http://localhost:9000/oauth/token> (using basic authentication):"
   ]
  },
  {
   "cell_type": "code",
   "execution_count": 14,
   "metadata": {},
   "outputs": [
    {
     "name": "stdout",
     "output_type": "stream",
     "text": [
      "{\"error\": \"invalid_grant\"}\n",
      "{'error': 'invalid_grant'}\n"
     ]
    }
   ],
   "source": [
    "auth = (client_id, client_secret)\n",
    "data = {\n",
    "    'grant_type': 'refresh_token',\n",
    "    'refresh_token': refresh_token\n",
    "}\n",
    "response = requests.post('http://localhost:9000/oauth/token', auth=auth, data=data)\n",
    "print(response.text)\n",
    "pprint(response.json())"
   ]
  },
  {
   "cell_type": "markdown",
   "metadata": {},
   "source": [
    "# OAuth Workflow Walkthrough\n",
    "\n",
    "To demonstrate how to use the OAuth workflow, let's walk through each step. We'll need the FHIR server with the SMART layer provided by the reference stack, and we'll interact with it as if we are a research application. The steps are:\n",
    "1. Register our application as a client\n",
    "2. Launch the workflow by asking the SMART server for authorization\n",
    "3. Collect the authorization code from the SMART server\n",
    "4. Exchange the code for an access token\n",
    "5. Use the access token to access patient data\n",
    "\n",
    "## Registering the client\n",
    "\n",
    "This is the same process outlined above, with the exception of the provided redirect URI. Normally, this should be an endpoint exposed by the research client which accepts authorization codes from the SMART server; however, we are manually emulating a research application, so we don't have any such endpoint available. Instead, we can just give it a fake endpoint and copy the code from the browser into the notebook at the end of the participant's authorization process."
   ]
  },
  {
   "cell_type": "code",
   "execution_count": 9,
   "metadata": {},
   "outputs": [
    {
     "name": "stdout",
     "output_type": "stream",
     "text": [
      "Response status code: 201\n",
      "{'client_id': '8d26ab7b-9b48-41d7-be2f-cc0347656f1e',\n",
      " 'client_name': 'Fake Research Application',\n",
      " 'client_secret': '7b1c8673-55c9-44d0-8e3e-88015285c9fa',\n",
      " 'client_secret_expires_at': 0,\n",
      " 'redirect_uris': ['http://not-a-real-site'],\n",
      " 'scope': 'launch/patient patient/*.read offline_access'}\n"
     ]
    }
   ],
   "source": [
    "import requests\n",
    "from pprint import pprint\n",
    "\n",
    "redirect_uri = 'http://not-a-real-site'\n",
    "\n",
    "data = {\n",
    "    'client_name': 'Fake Research Application',\n",
    "    'redirect_uris': [redirect_uri],\n",
    "    'scope': 'launch/patient patient/*.read offline_access'\n",
    "}\n",
    "response = requests.post('http://localhost:9000/oauth/register', json=data)\n",
    "response_data = response.json()\n",
    "print(f'Response status code: {response.status_code}')\n",
    "pprint(response.json())\n",
    "\n",
    "client_id = response_data['client_id']\n",
    "client_secret = response_data['client_secret']"
   ]
  },
  {
   "cell_type": "markdown",
   "metadata": {},
   "source": [
    "## Launch the OAuth workflow\n",
    "\n",
    "The workflow is lauched by the participant by accessing the authorize endpoint exposed by the SMART server, which can be determined by looking at the server's conformance statement. For the reference stack's SMART server, this endpoint is <http://localhost:9000/oauth/authorize>."
   ]
  },
  {
   "cell_type": "code",
   "execution_count": 10,
   "metadata": {},
   "outputs": [
    {
     "name": "stdout",
     "output_type": "stream",
     "text": [
      "Continue to authorization:\n",
      "http://localhost:9000/oauth/authorize?response_type=code&client_id=8d26ab7b-9b48-41d7-be2f-cc0347656f1e&redirect_uri=http%3A%2F%2Fnot-a-real-site&scope=launch%2Fpatient+patient%2F%2A.read+offline_access&state=my-obscure-state&aud=http%3A%2F%2Flocalhost%3A9000%2Fapi%2Ffhir\n"
     ]
    }
   ],
   "source": [
    "from urllib.parse import urlencode\n",
    "\n",
    "params = {\n",
    "    'response_type': 'code',\n",
    "    'client_id': client_id,\n",
    "    'redirect_uri': redirect_uri,\n",
    "    'scope': 'launch/patient patient/*.read offline_access',\n",
    "    'state': 'my-obscure-state',\n",
    "    'aud': 'http://localhost:9000/api/fhir'\n",
    "}\n",
    "\n",
    "print('Continue to authorization:')\n",
    "print(f'http://localhost:9000/oauth/authorize?{urlencode(params)}')"
   ]
  },
  {
   "cell_type": "markdown",
   "metadata": {},
   "source": [
    "## Collect the authorization code\n",
    "\n",
    "By following that link, you may be asked to login with the default credentials (or you may already be logged in), and then asked to complete the authorization process. At the end of the process, you'll be redirected to a URL like <http://not-a-real-site/?code=LmM28GpIYoF4kULyRWcb7W4Fqlximv&state=my-obscure-state>, containing the authorization code. Copy this code into the script below, but **act fast** since this code expires quickly!"
   ]
  },
  {
   "cell_type": "code",
   "execution_count": 11,
   "metadata": {},
   "outputs": [],
   "source": [
    "code = 'sm0E77sNswaVnsknQTBhiEbIRFrH7h'  # replace with your code"
   ]
  },
  {
   "cell_type": "markdown",
   "metadata": {},
   "source": [
    "## Exchange for access token\n",
    "\n",
    "With code in hand, we can now get an access token from the SMART server. This is completed by your application without any input from the user. Note that since this is a *confidential* client, we need to use basic authentication when interacting with the SMART server."
   ]
  },
  {
   "cell_type": "code",
   "execution_count": 12,
   "metadata": {},
   "outputs": [
    {
     "name": "stdout",
     "output_type": "stream",
     "text": [
      "Response status code: 200\n",
      "{'access_token': 'UxWwgbVdwc2TMyMXTRJAjGShoP98rT',\n",
      " 'expires_in': 3600,\n",
      " 'patient': 'smart-1288992',\n",
      " 'refresh_token': 'xZkZAKpi79PMo4JefeThIi4At2SQ8A',\n",
      " 'scope': 'launch/patient patient/*.read offline_access',\n",
      " 'token_type': 'Bearer'}\n"
     ]
    }
   ],
   "source": [
    "auth = (client_id, client_secret)  # for basic authentication\n",
    "\n",
    "data = {\n",
    "    'grant_type': 'authorization_code',\n",
    "    'code': code,\n",
    "    'redirect_uri': redirect_uri\n",
    "}\n",
    "\n",
    "response = requests.post('http://localhost:9000/oauth/token', auth=auth, data=data)\n",
    "response_data = response.json()\n",
    "\n",
    "print(f'Response status code: {response.status_code}')\n",
    "pprint(response_data)\n",
    "\n",
    "access_token = response_data['access_token']\n",
    "patient_id = response_data['patient']"
   ]
  },
  {
   "cell_type": "markdown",
   "metadata": {},
   "source": [
    "**Note:** If you receive a 401 response, you may have taken too much time before the participant's authorization and this step.\n",
    "\n",
    "You can see that the server gave us the patient ID whose data we now have access to, and the access token we can use to get the data.\n",
    "\n",
    "## Accessing patient data\n",
    "\n",
    "Now let's make sure we can access the data as we have above."
   ]
  },
  {
   "cell_type": "code",
   "execution_count": 13,
   "metadata": {},
   "outputs": [
    {
     "name": "stdout",
     "output_type": "stream",
     "text": [
      "Response status code: 200\n",
      "{'active': True,\n",
      " 'address': [{'city': 'Tulsa',\n",
      "              'country': 'USA',\n",
      "              'line': ['1 Hill AveApt 14'],\n",
      "              'postalCode': '74117',\n",
      "              'state': 'OK',\n",
      "              'use': 'home'}],\n",
      " 'birthDate': '1925-12-23',\n",
      " 'gender': 'male',\n",
      " 'id': 'smart-1288992',\n",
      " 'identifier': [{'system': 'http://hospital.smarthealthit.org',\n",
      "                 'type': {'coding': [{'code': 'MR',\n",
      "                                      'display': 'Medical record number',\n",
      "                                      'system': 'http://hl7.org/fhir/v2/0203'}],\n",
      "                          'text': 'Medical record number'},\n",
      "                 'use': 'usual',\n",
      "                 'value': '1288992'}],\n",
      " 'meta': {'lastUpdated': '2018-07-05T16:39:38.468+00:00',\n",
      "          'security': [{'code': 'patient',\n",
      "                        'system': 'http://smarthealthit.org/security/categories'},\n",
      "                       {'code': 'Patient/smart-1288992',\n",
      "                        'system': 'http://smarthealthit.org/security/users'}],\n",
      "          'versionId': '1'},\n",
      " 'name': [{'family': ['Adams'], 'given': ['Daniel', 'X.'], 'use': 'official'}],\n",
      " 'resourceType': 'Patient',\n",
      " 'telecom': [{'system': 'email', 'value': 'daniel.adams@example.com'}],\n",
      " 'text': {'div': '<div xmlns=\"http://www.w3.org/1999/xhtml\">        <p>Daniel '\n",
      "                 'Adams</p>      </div>',\n",
      "          'status': 'generated'}}\n"
     ]
    }
   ],
   "source": [
    "headers = {\n",
    "    'Authorization': f'Bearer {access_token}'\n",
    "}\n",
    "response = requests.get(f'http://localhost:9000/api/fhir/Patient/{patient_id}', headers=headers)\n",
    "print(f'Response status code: {response.status_code}')\n",
    "pprint(response.json())"
   ]
  },
  {
   "cell_type": "markdown",
   "metadata": {},
   "source": [
    "Success!"
   ]
  }
 ],
 "metadata": {
  "kernelspec": {
   "display_name": "Python 3",
   "language": "python",
   "name": "python3"
  },
  "language_info": {
   "codemirror_mode": {
    "name": "ipython",
    "version": 3
   },
   "file_extension": ".py",
   "mimetype": "text/x-python",
   "name": "python",
   "nbconvert_exporter": "python",
   "pygments_lexer": "ipython3",
   "version": "3.6.5"
  }
 },
 "nbformat": 4,
 "nbformat_minor": 2
}
